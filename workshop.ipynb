{
 "cells": [
  {
   "cell_type": "markdown",
   "metadata": {},
   "source": [
    "# Let's build a Todo app! 🛠️📚"
   ]
  },
  {
   "cell_type": "markdown",
   "metadata": {},
   "source": [
    "## Setup 📄\n",
    "\n",
    "1. Open the terminal using the top menu\n",
    "2. Set up a python virtual environment in the terminal with this command `python3 -m venv .venv`\n",
    "3. Activate the virtual environment with this command `source .venv/bin/activate`\n",
    "\n",
    "4. Run the `Hello World` code in the next cell and set your kernal for Jupyter notebooks, selected *\"Select Kernal\"* at the top to **.venv** and click \"Install\" on the pop up.\n"
   ]
  },
  {
   "cell_type": "code",
   "execution_count": 1,
   "metadata": {},
   "outputs": [
    {
     "name": "stdout",
     "output_type": "stream",
     "text": [
      "Hello, World!\n"
     ]
    }
   ],
   "source": [
    "print(\"Hello, World!\")"
   ]
  },
  {
   "cell_type": "markdown",
   "metadata": {},
   "source": [
    "## Making the app work\n",
    "\n",
    "1. Run the Flask app using this command `python3 -m flask run --port 5000 --debug`\n",
    "2. Complete `YOUR_SQL_QUERY_HERE`s in the code inside `app/service_todo/sql/*.py` files with your SQL queries. \n",
    "\n",
    "Find the database schema in `app/schema.sql` for reference"
   ]
  },
  {
   "cell_type": "markdown",
   "metadata": {},
   "source": [
    "## Playground 🤾🛝\n",
    "\n",
    "Change `query` to any other SQL queries you want to test"
   ]
  },
  {
   "cell_type": "markdown",
   "metadata": {},
   "source": [
    "### SELECT queries"
   ]
  },
  {
   "cell_type": "code",
   "execution_count": 6,
   "metadata": {},
   "outputs": [
    {
     "name": "stdout",
     "output_type": "stream",
     "text": [
      "Tables: [('todo',), ('subtodo',)]\n",
      "      id     title     desc  completed           created_at  \\\n",
      "0  my_id  my_title  my_desc          1  2025-04-10 21:58:24   \n",
      "\n",
      "            updated_at due_date  \n",
      "0  2025-04-10 21:58:24     None  \n"
     ]
    }
   ],
   "source": [
    "import sqlite3\n",
    "import pandas as pd\n",
    "\n",
    "# Connect to the SQLite database file\n",
    "conn = sqlite3.connect('instance/todo.db')\n",
    "\n",
    "# Create a cursor object to interact with the database\n",
    "cursor = conn.cursor()\n",
    "\n",
    "# Example: List all tables in the database\n",
    "cursor.execute(\"SELECT name FROM sqlite_master WHERE type='table';\")\n",
    "tables = cursor.fetchall()\n",
    "print(\"Tables:\", tables)\n",
    "\n",
    "# Run a custom SQL query\n",
    "query = \"\"\"\n",
    "SELECT * FROM todo \n",
    "ORDER BY created_at DESC LIMIT 10;\n",
    "\"\"\"\n",
    "# Using pandas to directly load and display query results\n",
    "df = pd.read_sql_query(query, conn)\n",
    "print(df.head())\n",
    "\n",
    "# Close the connection when finished\n",
    "conn.close()\n"
   ]
  },
  {
   "cell_type": "markdown",
   "metadata": {},
   "source": [
    "### INSERT/UPDATE/DELETE queries"
   ]
  },
  {
   "cell_type": "code",
   "execution_count": 5,
   "metadata": {},
   "outputs": [],
   "source": [
    "import sqlite3\n",
    "\n",
    "# Connect to the SQLite database file\n",
    "conn = sqlite3.connect('instance/todo.db', timeout=10)\n",
    "\n",
    "# Create a cursor object to interact with the database\n",
    "cursor = conn.cursor()\n",
    "\n",
    "# Run a custom SQL query that modifies the database\n",
    "# WARNING: The query will modify the database\n",
    "query = \"\"\"\n",
    "INSERT INTO todo (id, title, desc, completed)\n",
    "VALUES ('my_id', 'my_title', 'my_desc', 1)\n",
    "\"\"\"\n",
    "\n",
    "# Execute the query\n",
    "cursor.execute(query)\n",
    "# Commit the changes to the database\n",
    "conn.commit()\n",
    "\n",
    "# Close the connection when finished\n",
    "conn.close()\n"
   ]
  },
  {
   "cell_type": "markdown",
   "metadata": {},
   "source": [
    "\n",
    "## Let's add a due date to your todos! ✅\n",
    "\n",
    "1. Go to the schema.sql file and add `due_date` to the todo and subtodo table \n",
    "   with type `TIMESTAMP` and default value `NULL`\n",
    "2. Go to the type_defs.py file, add `from datetime import datetime` to the imports and \n",
    "   add due_date to the `Todo` and `SubTodo` classes with type `Optional[datetime]`\n",
    "\n",
    "   ```python\n",
    "   from datetime import datetime\n",
    "\n",
    "   class Todo(TypedDict):\n",
    "     # ...\n",
    "     due_date: Optional[datetime]\n",
    "\n",
    "   class SubTodo(TypedDict):\n",
    "     # ...\n",
    "     due_date: Optional[datetime]\n",
    "   ```\n",
    "\n",
    "### Parse due_date to Python `datetime` 🔀\n",
    "\n",
    "3. In todo_ins.py and todo_upd.py, add `from datetime import datetime` to the imports and\n",
    "   paste the following code after the `data: _ReqBody = request.get_json()` line\n",
    "   to parse the `due_date` to a `datetime` object:\n",
    "\n",
    "   ```python\n",
    "   from datetime import datetime\n",
    "   # ...\n",
    "\n",
    "   data: _ReqBody = request.get_json()\n",
    "   data['todo']['due_date'] = datetime.fromisoformat(data['todo']['due_date'])\n",
    "   ```\n",
    "4. Do the same thing in subtodo_ins.py and subtodo_upd.py, but for both `todo` and `subtodo`:\n",
    "\n",
    "   ```python\n",
    "   from datetime import datetime\n",
    "   # ...\n",
    "\n",
    "   data: _ReqBody = request.get_json()\n",
    "   data['todo']['due_date'] = datetime.fromisoformat(data['todo']['due_date'])\n",
    "   data['subtodo']['due_date'] = datetime.fromisoformat(data['subtodo']['due_date'])\n",
    "   ```\n",
    "\n",
    "### Update your SQL queries 💬\n",
    "\n",
    "5. Modify sql_todo_get.py to include `due_date` when parsing the row to `Todo` in the response\n",
    "   `due_date` is automatically a `datetime` object (or `None`), so you don't need to do any conversion\n",
    "6. Modify sql_todos_get.py to include `due_date` when parsing the rows to `List[Todo]` in the response\n",
    "7. Modify sql_todo_ins.py to include `due_date` in the SQL query and the parameters\n",
    "8. Modify sql_todo_upd.py to include `due_date` in the SQL query and the parameters\n",
    "9. Modify sql_subtodo_get.py to include `due_date` when parsing the row to `SubTodo` in the response\n",
    "10. Modify sql_subtodos_get.py to include `due_date` when parsing the rows to `List[SubTodo]` in the response\n",
    "11. Modify sql_subtodo_ins.py to include `due_date` in the SQL query and the parameters\n",
    "12. Modify sql_subtodo_upd.py to include `due_date` in the SQL query and the parameters\n",
    "\n",
    "### Update your UI 🖼️\n",
    "\n",
    "13.  Go to the static/index.html file, search for the TODO comment and add the following code:\n",
    "\n",
    "     ```html\n",
    "     <!-- TODO: Add new todo due date input below -->\n",
    "     <label>Due Date\n",
    "       <input type=\"datetime-local\" id=\"new-todo-due-date\">\n",
    "     </label>\n",
    "     ```\n",
    "14.  Go to the static/index.js file, search for the TODO comments and add the following code:\n",
    "    \n",
    "     ```html\n",
    "     <!-- TODO: Add edit subtodo due date input below -->\n",
    "     <label>Due Date\n",
    "       <input type=\"datetime-local\" class=\"edit-subtodo-due-date\" \n",
    "         value=\"${subtodo.due_date ? formatDateToDatetimeLocal(new Date(subtodo.due_date)) : ''}\"\n",
    "       >\n",
    "     </label>\n",
    " \n",
    "     <!-- TODO: Add edit todo due date input below -->\n",
    "     <label>Due Date\n",
    "       <input type=\"datetime-local\" class=\"edit-todo-due-date\"\n",
    "         value=\"${todo.due_date ? formatDateToDatetimeLocal(new Date(todo.due_date)) : ''}\"\n",
    "       >\n",
    "     </label>\n",
    " \n",
    "     <!-- TODO: Add new subtodo due date input below -->\n",
    "     <label>Due Date\n",
    "       <input type=\"datetime-local\" class=\"new-subtodo-due-date\">\n",
    "     </label>\n",
    "     ```\n",
    "\n",
    "     ```js\n",
    "     // TODO: Add new todo due date field below\n",
    "     const todoDueDateValue = document.getElementById('new-todo-due-date').value;\n",
    "\n",
    "     // TODO: Reset the new todo due date field\n",
    "     document.getElementById('new-todo-due-date').value = '';\n",
    "\n",
    "     // TODO: Add edit todo due date field below\n",
    "     const todoDueDateValue = todoLI.querySelector('.edit-todo-due-date').value;\n",
    "\n",
    "     // TODO: Add edit subtodo due date field below\n",
    "     const subtodoDueDateValue = subtodoLI.querySelector('.edit-subtodo-due-date').value;\n",
    "\n",
    "     // TODO: Add new todo and subtodo due date field below\n",
    "     const todoDueDateValue = todoLI.querySelector('.edit-todo-due-date').value;\n",
    "     const subtodoDueDateValue = form.querySelector('.new-subtodo-due-date').value;\n",
    "\n",
    "     const reqBody = {\n",
    "       todo: {\n",
    "         // ...,\n",
    "         // TODO: Add the todo due date to the request body (there are 5 places)\n",
    "         due_date: todoDueDateValue ? formatDateToSQLite(new Date(todoDueDateValue)) : null\n",
    "       },\n",
    "       subtodo: {\n",
    "         // ...,\n",
    "         // TODO: Add the subtodo due date to the request body (there are 2 places)\n",
    "         due_date: subtodoDueDateValue ? formatDateToSQLite(new Date(subtodoDueDateValue)) : null\n",
    "       }\n",
    "     }\n",
    "     ```\n",
    "\n",
    "### Test your changes 🎉\n",
    "\n",
    "15. Delete the database file `instance/todo.db` and run the command \n",
    "    `python3 -m flask run` to restart the server and create a new database with the new schema\n",
    "16. Open the web app in your browser and test your changes!\n"
   ]
  }
 ],
 "metadata": {
  "kernelspec": {
   "display_name": ".venv",
   "language": "python",
   "name": "python3"
  },
  "language_info": {
   "codemirror_mode": {
    "name": "ipython",
    "version": 3
   },
   "file_extension": ".py",
   "mimetype": "text/x-python",
   "name": "python",
   "nbconvert_exporter": "python",
   "pygments_lexer": "ipython3",
   "version": "3.11.5"
  }
 },
 "nbformat": 4,
 "nbformat_minor": 2
}
