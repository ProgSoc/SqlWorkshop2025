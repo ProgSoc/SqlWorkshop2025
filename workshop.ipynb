{
 "cells": [
  {
   "cell_type": "markdown",
   "metadata": {},
   "source": [
    "# Let's build a Todo app! 🛠️📚"
   ]
  },
  {
   "cell_type": "markdown",
   "metadata": {},
   "source": [
    "## Setup\n",
    "\n",
    "1. Open the terminal using the top menu\n",
    "2. Set up a python virtual environment in the terminal with this command `python3 -m venv .venv`\n",
    "3. Activate the virtual environment with this command `source .venv/bin/activate`\n",
    "\n",
    "4. Run the `Hello World` code in the next cell and set your kernal for Jupyter notebooks, selected *\"Select Kernal\"* at the top to **.venv** and click \"Install\" on the pop up.\n"
   ]
  },
  {
   "cell_type": "code",
   "execution_count": 1,
   "metadata": {},
   "outputs": [
    {
     "name": "stdout",
     "output_type": "stream",
     "text": [
      "Hello, World!\n"
     ]
    }
   ],
   "source": [
    "print(\"Hello, World!\")"
   ]
  },
  {
   "cell_type": "markdown",
   "metadata": {},
   "source": [
    "## Making the app work\n",
    "\n",
    "1. Run the Flask app using this command `python3 -m flask run --port 5000 --debug`\n",
    "2. Complete `YOUR_SQL_QUERY_HERE`s in the code inside `app/service_todo/sql/*.py` files with your SQL queries. Find the database schema in `app/schema.sql` for reference"
   ]
  },
  {
   "cell_type": "markdown",
   "metadata": {},
   "source": [
    "### Playground\n",
    "\n",
    "Change `query` to any other SQL queries you want to test"
   ]
  },
  {
   "cell_type": "code",
   "execution_count": null,
   "metadata": {},
   "outputs": [
    {
     "name": "stdout",
     "output_type": "stream",
     "text": [
      "Tables: [('todo',), ('subtodo',)]\n",
      "                                     id       title    desc  completed  \\\n",
      "0  4256ba6e-0911-4694-9423-0118d8f3a5bd          hi  m,asnd          1   \n",
      "1  e74db7a7-8de4-449f-95d6-07b64fd8a8cb    new todo                  0   \n",
      "2  bb014328-ac42-40d6-b38c-c5e74b6cfd51  new todo 2                  1   \n",
      "3  9ab2bd8f-5c86-447c-9072-9ae56ac91224           a                  0   \n",
      "\n",
      "            created_at           updated_at  \n",
      "0  2025-04-10 01:35:21  2025-04-10 03:58:33  \n",
      "1  2025-04-10 03:58:39  2025-04-10 03:58:39  \n",
      "2  2025-04-10 03:58:48  2025-04-10 07:44:55  \n",
      "3  2025-04-10 08:37:41  2025-04-10 08:37:41  \n"
     ]
    }
   ],
   "source": [
    "import sqlite3\n",
    "import pandas as pd\n",
    "\n",
    "# Connect to the SQLite database file\n",
    "conn = sqlite3.connect('instance/todo.db')\n",
    "\n",
    "# Create a cursor object to interact with the database\n",
    "cursor = conn.cursor()\n",
    "\n",
    "# Example: List all tables in the database\n",
    "cursor.execute(\"SELECT name FROM sqlite_master WHERE type='table';\")\n",
    "tables = cursor.fetchall()\n",
    "print(\"Tables:\", tables)\n",
    "\n",
    "# Run a custom SQL query\n",
    "query = \"SELECT * FROM todo LIMIT 10;\"\n",
    "# Using pandas to directly load and display query results\n",
    "df = pd.read_sql_query(query, conn)\n",
    "print(df.head())\n",
    "\n",
    "# Close the connection when finished\n",
    "conn.close()\n"
   ]
  },
  {
   "cell_type": "markdown",
   "metadata": {},
   "source": []
  }
 ],
 "metadata": {
  "kernelspec": {
   "display_name": ".venv",
   "language": "python",
   "name": "python3"
  },
  "language_info": {
   "codemirror_mode": {
    "name": "ipython",
    "version": 3
   },
   "file_extension": ".py",
   "mimetype": "text/x-python",
   "name": "python",
   "nbconvert_exporter": "python",
   "pygments_lexer": "ipython3",
   "version": "3.11.5"
  }
 },
 "nbformat": 4,
 "nbformat_minor": 2
}
